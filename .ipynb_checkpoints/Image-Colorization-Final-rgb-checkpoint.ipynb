{
 "cells": [
  {
   "cell_type": "markdown",
   "id": "096ec476",
   "metadata": {},
   "source": [
    "# Image Colorization Final Project\n",
    "Authors: Aret Tinoco, Keshav Gupta, Hal Halberstadt\n",
    "\n",
    "Dataset: https://www.kaggle.com/datasets/darthgera/colorization\n",
    "\n",
    "---\n",
    "\n",
    "## Imports\n",
    "\n",
    "We have to import some unsual libraries in order to get the RGB values of our target images into HSL format, and a few more for ease of viewing and on the same note ease displaying data."
   ]
  },
  {
   "cell_type": "code",
   "execution_count": 1,
   "id": "bd605224",
   "metadata": {},
   "outputs": [],
   "source": [
    "import numpy as np\n",
    "import pandas as pd\n",
    "import matplotlib.pyplot as plt\n",
    "import seaborn as sns\n",
    "import colorsys\n",
    "from pathlib import Path\n",
    "from PIL import Image # for resizing images\n",
    "\n",
    "from skimage import io, color\n",
    "\n",
    "import tensorflow as tf\n",
    "from tensorflow.keras import models, layers, Input, Model, callbacks, utils, callbacks\n",
    "import tensorflow.keras.backend as K\n",
    "from tensorflow.keras.preprocessing.image import ImageDataGenerator, load_img\n",
    "\n",
    "from IPython.display import display, HTML"
   ]
  },
  {
   "cell_type": "markdown",
   "id": "d770db43",
   "metadata": {},
   "source": [
    "Ease of reading"
   ]
  },
  {
   "cell_type": "code",
   "execution_count": 2,
   "id": "09fb6d98",
   "metadata": {},
   "outputs": [
    {
     "data": {
      "text/html": [
       "<style>.container { width:100% !important; }</style>"
      ],
      "text/plain": [
       "<IPython.core.display.HTML object>"
      ]
     },
     "metadata": {},
     "output_type": "display_data"
    }
   ],
   "source": [
    "pd.set_option('display.max_columns', 200)\n",
    "pd.options.display.width = 120\n",
    "pd.options.display.max_colwidth = 50\n",
    "display(HTML(\"<style>.container { width:100% !important; }</style>\"))"
   ]
  },
  {
   "cell_type": "markdown",
   "id": "8f979beb",
   "metadata": {},
   "source": [
    "Now to state the directory of the data to retrieve from."
   ]
  },
  {
   "cell_type": "code",
   "execution_count": 3,
   "id": "b09c590a",
   "metadata": {},
   "outputs": [],
   "source": [
    "data_dir = Path(\"C:/Users/smhal/Desktop/archive\") \n",
    "img_shape = (512, 512, 3)\n",
    "# shrink_shape = img_shape\n",
    "shrink_shape = (256, 256, 3)\n",
    "# shrink_shape = (128, 128, 3)\n",
    "img_taken = 100\n",
    "\n",
    "folder_paths = ['color', 'bw', 'color_val', 'bw_val']"
   ]
  },
  {
   "cell_type": "markdown",
   "id": "d5642bf1",
   "metadata": {},
   "source": [
    "---\n",
    "\n",
    "## Useful Functions\n",
    "\n",
    "We need a function to make conversion of each image easier"
   ]
  },
  {
   "cell_type": "markdown",
   "id": "ad5abfea",
   "metadata": {},
   "source": [
    "---\n",
    "\n",
    "## Data Generator\n",
    "\n",
    "Since we cannot hope to hold onto 18000 images in our kernel, we have to use a generator in order to be able to get data from the file and then train on that data."
   ]
  },
  {
   "cell_type": "code",
   "execution_count": 4,
   "id": "56b1475c",
   "metadata": {},
   "outputs": [],
   "source": [
    "class DataGenerator(utils.Sequence): \n",
    "    '''\n",
    "    adapted from https://stanford.edu/~shervine/blog/keras-how-to-generate-data-on-the-fly\n",
    "    \n",
    "    Generates a color (rbg/hls) and black & white image for training data\n",
    "    '''\n",
    "    def __init__(self, ids, batch_size=1, \n",
    "                 dim=shrink_shape, n_channels=3, shuffle=True):\n",
    "        self.dim = dim\n",
    "        self.batch_size = batch_size\n",
    "        self.list_IDs = ids\n",
    "        self.n_channels = n_channels\n",
    "        self.shuffle = shuffle\n",
    "        self.on_epoch_end()\n",
    "\n",
    "    def __len__(self):\n",
    "        return int(np.floor(len(self.list_IDs) / self.batch_size))\n",
    "\n",
    "    def __getitem__(self, index):\n",
    "        # Generate indexes of the batch\n",
    "        indexes = self.indexes[index*self.batch_size:(index+1)*self.batch_size]\n",
    "\n",
    "        # Find list of IDs\n",
    "        list_IDs_temp = [self.list_IDs[k] for k in indexes]\n",
    "\n",
    "        # Generate data\n",
    "        X, y = self.__data_generation(list_IDs_temp)\n",
    "        \n",
    "        return X, y\n",
    "\n",
    "    def on_epoch_end(self):\n",
    "        self.indexes = np.arange(len(self.list_IDs))\n",
    "        if self.shuffle == True:\n",
    "            np.random.shuffle(self.indexes)\n",
    "\n",
    "    def __data_generation(self, list_IDs_temp):\n",
    "        # Initialization\n",
    "        X = np.empty((self.batch_size, *self.dim))\n",
    "        y = np.empty((self.batch_size, *self.dim))\n",
    "\n",
    "        # Generate data\n",
    "        for i, ID in enumerate(list_IDs_temp):\n",
    "            # B/W image\n",
    "            img = load_img(ID)\n",
    "            img = img.resize(shrink_shape[:2])\n",
    "            img = np.array(img, dtype=np.float32)/255\n",
    "            img = img ** 1/2.2 #rgb to srgb\n",
    "            img = color.rgb2lab(img)\n",
    "            \n",
    "            X[i] = img\n",
    "            \n",
    "            # get location of color image\n",
    "            color_ID = str(ID)\n",
    "            color_ID = color_ID.replace(\"bw\", \"color\")\n",
    "            \n",
    "            # target image\n",
    "            img_y = load_img(color_ID)\n",
    "            img_y = img_y.resize(shrink_shape[:2])\n",
    "            img_y = np.array(img_y, dtype=np.float32)/255\n",
    "            img_y = img_y ** 1/2.2 #rgb to srgb\n",
    "            img_y = color.rgb2lab(img_y)\n",
    "#             img_y = color.rgb2xyz(img_y)\n",
    "#             img_y = color.xyz2lab(img_y)\n",
    "\n",
    "            y[i] = img_y\n",
    "\n",
    "        return X, y"
   ]
  },
  {
   "cell_type": "code",
   "execution_count": 5,
   "id": "09af90c0",
   "metadata": {
    "scrolled": true
   },
   "outputs": [],
   "source": [
    "# Dataset locations\n",
    "bw_dir_train = data_dir / folder_paths[1]\n",
    "# color_dir_train = data_dir / folder_paths[0]\n",
    "#[:img_taken]\n",
    "partition_bw = list(bw_dir_train.glob('*.jpg'))\n",
    "# partition_color = list(color_dir_train.glob('*.jpg'))\n",
    "\n",
    "# Generators\n",
    "training_generator = DataGenerator(partition_bw)"
   ]
  },
  {
   "cell_type": "code",
   "execution_count": 6,
   "id": "c6198fc7",
   "metadata": {},
   "outputs": [],
   "source": [
    "# Dataset locations\n",
    "bw_dir_val = data_dir / folder_paths[3]\n",
    "color_dir_val = data_dir / folder_paths[2]\n",
    "\n",
    "partition_bw = list(bw_dir_val.glob('*.jpg'))\n",
    "partition_color = list(color_dir_val.glob('*.jpg'))\n",
    "\n",
    "# Generators\n",
    "validation_generator = DataGenerator(partition_bw)"
   ]
  },
  {
   "cell_type": "markdown",
   "id": "7a17dfe5",
   "metadata": {},
   "source": [
    "---\n",
    "\n",
    "## Model(s)\n",
    "\n",
    "Next I want to read the data from the files and then just to make sure I am getting the right data from the right files"
   ]
  },
  {
   "cell_type": "code",
   "execution_count": 7,
   "id": "c7573a75",
   "metadata": {},
   "outputs": [],
   "source": [
    "K.clear_session()  # Just for sanity\n",
    "\n",
    "act_fun = 'elu'\n",
    "filters = 32\n",
    "filter_size = 1\n",
    "drop_rate = .1"
   ]
  },
  {
   "cell_type": "code",
   "execution_count": 8,
   "id": "b5fa66b3",
   "metadata": {},
   "outputs": [],
   "source": [
    "layer_input_shape = shrink_shape\n",
    "_input = Input(layer_input_shape, name=\"img_input\")\n",
    "\n",
    "h1 = _input\n",
    "h1 = layers.Conv2D(1, filter_size, padding='same', activation=act_fun, name=\"head0\")(h1)\n",
    "\n",
    "\n",
    "h2 = (_input)\n",
    "h2 = layers.SeparableConv2D(filters, filter_size+2, padding='same', activation=act_fun, name=\"head1_conv_1\")(h2)\n",
    "# h2 = layers.SpatialDropout2D(drop_rate)(h2)\n",
    "h2 = layers.SeparableConv2D(filters*.8, filter_size, padding='same', name=\"head1_conv_2\")(h2)\n",
    "h2 = layers.BatchNormalization(axis=3)(h2)\n",
    "h2 = layers.Activation(act_fun)(h2)\n",
    "h2 = layers.SeparableConv2D(filters*.5, filter_size, padding='same', activation=act_fun, name=\"head1_conv_3\")(h2)\n",
    "# h2 = layers.SpatialDropout2D(drop_rate)(h2)\n",
    "h2 = layers.SeparableConv2D(1, filter_size, padding='same', activation=act_fun, name=\"head1_conv_f\")(h2)\n",
    "\n",
    "h3 = (_input)\n",
    "h3 = layers.SeparableConv2D(filters, filter_size+2, padding='same', activation=act_fun, name=\"head2_conv_1\")(h3)\n",
    "# h3 = layers.SpatialDropout2D(drop_rate)(h3)\n",
    "h3 = layers.SeparableConv2D(filters*.8, filter_size, padding='same', name=\"head2_conv_2\")(h3)\n",
    "h3 = layers.BatchNormalization(axis=3)(h3)\n",
    "h3 = layers.Activation(act_fun)(h3)\n",
    "h3 = layers.SeparableConv2D(filters*.5, filter_size, padding='same', activation=act_fun, name=\"head2_conv_3\")(h3)\n",
    "# h3 = layers.SpatialDropout2D(drop_rate)(h3)\n",
    "h3 = layers.SeparableConv2D(1, filter_size, padding='same', activation=act_fun, name=\"head2_conv_f\")(h3)\n",
    "\n",
    "'''full image'''\n",
    "full_input = layers.Concatenate(axis=3)([h1, h2, h3])\n",
    "# x = _input\n",
    "x = layers.Conv2D(filters, filter_size, padding='same', activation=act_fun, name=\"conv_1\")(full_input)\n",
    "# x = layers.SpatialDropout2D(drop_rate)(x)\n",
    "x = layers.SeparableConv2D(filters*.5, filter_size, padding='same', activation=act_fun, name=\"conv_2\")(x)\n",
    "x = layers.BatchNormalization(axis=3)(x)\n",
    "x = layers.Activation(act_fun)(x)\n",
    "# x = layers.SeparableConv2D(filters, filter_size, padding='same', activation=act_fun, name=\"conv_3\")(x)\n",
    "# x = layers.SeparableConv2D(filters, filter_size, padding='same', activation=act_fun, name=\"conv_4\")(x)\n",
    "# x = layers.SpatialDropout2D(drop_rate)(x)\n",
    "# x = layers.Conv2D(filters, filter_size, padding='same', activation=act_fun, name=\"conv_5\")(x)\n",
    "x = layers.Conv2D(3, filter_size, padding='same', activation=act_fun)(x)\n",
    "\n",
    "model = Model(_input, x)\n"
   ]
  },
  {
   "cell_type": "code",
   "execution_count": 9,
   "id": "e9cc95ef",
   "metadata": {
    "scrolled": false
   },
   "outputs": [
    {
     "name": "stdout",
     "output_type": "stream",
     "text": [
      "Model: \"model\"\n",
      "__________________________________________________________________________________________________\n",
      "Layer (type)                    Output Shape         Param #     Connected to                     \n",
      "==================================================================================================\n",
      "img_input (InputLayer)          [(None, 256, 256, 3) 0                                            \n",
      "__________________________________________________________________________________________________\n",
      "head1_conv_1 (SeparableConv2D)  (None, 256, 256, 32) 131         img_input[0][0]                  \n",
      "__________________________________________________________________________________________________\n",
      "head2_conv_1 (SeparableConv2D)  (None, 256, 256, 32) 131         img_input[0][0]                  \n",
      "__________________________________________________________________________________________________\n",
      "head0 (SeparableConv2D)         (None, 256, 256, 1)  7           img_input[0][0]                  \n",
      "__________________________________________________________________________________________________\n",
      "head1_conv_2 (SeparableConv2D)  (None, 256, 256, 1)  65          head1_conv_1[0][0]               \n",
      "__________________________________________________________________________________________________\n",
      "head2_conv_2 (SeparableConv2D)  (None, 256, 256, 1)  65          head2_conv_1[0][0]               \n",
      "__________________________________________________________________________________________________\n",
      "concatenate (Concatenate)       (None, 256, 256, 3)  0           head0[0][0]                      \n",
      "                                                                 head1_conv_2[0][0]               \n",
      "                                                                 head2_conv_2[0][0]               \n",
      "__________________________________________________________________________________________________\n",
      "conv_1 (SeparableConv2D)        (None, 256, 256, 32) 131         concatenate[0][0]                \n",
      "__________________________________________________________________________________________________\n",
      "separable_conv2d (SeparableConv (None, 256, 256, 3)  131         conv_1[0][0]                     \n",
      "==================================================================================================\n",
      "Total params: 661\n",
      "Trainable params: 661\n",
      "Non-trainable params: 0\n",
      "__________________________________________________________________________________________________\n"
     ]
    }
   ],
   "source": [
    "model.summary()"
   ]
  },
  {
   "cell_type": "markdown",
   "id": "74d0f2c2",
   "metadata": {},
   "source": [
    "---\n",
    "\n",
    "## Training"
   ]
  },
  {
   "cell_type": "markdown",
   "id": "7423f8d9",
   "metadata": {},
   "source": [
    "Creating a loss function"
   ]
  },
  {
   "cell_type": "code",
   "execution_count": 10,
   "id": "0ebd7252",
   "metadata": {},
   "outputs": [],
   "source": [
    "my_monitor = \"val_accuracy\"\n",
    "my_callbacks = [\n",
    "    callbacks.EarlyStopping(monitor=my_monitor, patience=4, min_delta=0.02, restore_best_weights=True),\n",
    "    callbacks.ReduceLROnPlateau(monitor=my_monitor, factor=0.1, patience=2, baseline=.005, min_delta=0.01, verbose = 1)\n",
    "]"
   ]
  },
  {
   "cell_type": "code",
   "execution_count": null,
   "id": "aea32ab2",
   "metadata": {
    "scrolled": false
   },
   "outputs": [
    {
     "name": "stdout",
     "output_type": "stream",
     "text": [
      "Epoch 1/5\n",
      "18000/18000 [==============================] - 1018s 56ms/step - loss: 375259.5312 - accuracy: 0.9673 - val_loss: 338784.0625 - val_accuracy: 0.9692\n",
      "Epoch 2/5\n",
      "18000/18000 [==============================] - 795s 44ms/step - loss: 345907.9062 - accuracy: 0.9638 - val_loss: 331975.7188 - val_accuracy: 0.9645\n",
      "Epoch 3/5\n",
      " 6979/18000 [==========>...................] - ETA: 6:37 - loss: 337888.2188 - accuracy: 0.9651"
     ]
    }
   ],
   "source": [
    "model.compile(optimizer='rmsprop', loss='mse',  metrics=['accuracy'])\n",
    "\n",
    "history = model.fit(training_generator, callbacks=my_callbacks, validation_data=validation_generator, epochs=15)"
   ]
  },
  {
   "cell_type": "markdown",
   "id": "a7d504b7",
   "metadata": {},
   "source": [
    "---\n",
    "\n",
    "## Example Results\n",
    "\n",
    "Here is a few images that were colorized with this model"
   ]
  },
  {
   "cell_type": "code",
   "execution_count": null,
   "id": "7f65957f",
   "metadata": {},
   "outputs": [],
   "source": [
    "image_number = 4"
   ]
  },
  {
   "cell_type": "code",
   "execution_count": null,
   "id": "eac7b6f1",
   "metadata": {
    "scrolled": false
   },
   "outputs": [],
   "source": [
    "imgs_x = np.zeros((10, shrink_shape[0], shrink_shape[1], shrink_shape[2]), dtype='float32')\n",
    "imgs_p = np.zeros((10, shrink_shape[0], shrink_shape[1], shrink_shape[2]), dtype='float32')\n",
    "i = 0\n",
    "for location in partition_bw[:10]:\n",
    "    img = load_img(location)\n",
    "    img = img.resize(shrink_shape[:2])\n",
    "    img = np.array(img, dtype=np.float32)\n",
    "    imgs_x[i] = img/255\n",
    "    imgs_p[i] = img/255\n",
    "    i += 1\n",
    "    \n",
    "plt.imshow(imgs_x[image_number]);"
   ]
  },
  {
   "cell_type": "code",
   "execution_count": null,
   "id": "23648b81",
   "metadata": {
    "scrolled": false
   },
   "outputs": [],
   "source": [
    "# output = model.predict(imgs_p/255)\n",
    "output = model.predict(color.rgb2lab(imgs**1/2.2))\n",
    "# for imgs in output:\n",
    "#     print(imgs[0][0])\n",
    "#     print(color.lab2rgb(imgs)[0][0])\n",
    "output = color.lab2rgb(output[image_number])\n",
    "\n",
    "# output = color.lab2xyz(output[image_number])\n",
    "# output = color.xyz2rgb(output)\n",
    "# print(output[image_number][400:405])\n",
    "# output = output\n",
    "\n",
    "plt.imshow(output);"
   ]
  },
  {
   "cell_type": "code",
   "execution_count": null,
   "id": "510d20df",
   "metadata": {
    "scrolled": false
   },
   "outputs": [],
   "source": [
    "imgs_y = np.zeros((10, shrink_shape[0], shrink_shape[1], shrink_shape[2]), dtype='float32')\n",
    "i = 0\n",
    "for location in partition_color[:10]:\n",
    "    img = load_img(location)\n",
    "    img = img.resize(shrink_shape[:2])\n",
    "    img = np.array(img, dtype=np.float32)\n",
    "    imgs_y[i] = img/255\n",
    "    i += 1\n",
    "    \n",
    "plt.imshow(imgs_y[image_number]);"
   ]
  },
  {
   "cell_type": "markdown",
   "id": "75476bbd",
   "metadata": {},
   "source": [
    "---\n",
    "\n",
    "## Conclusions\n",
    "\n",
    "Para1..."
   ]
  }
 ],
 "metadata": {
  "kernelspec": {
   "display_name": "Python 3 (ipykernel)",
   "language": "python",
   "name": "python3"
  },
  "language_info": {
   "codemirror_mode": {
    "name": "ipython",
    "version": 3
   },
   "file_extension": ".py",
   "mimetype": "text/x-python",
   "name": "python",
   "nbconvert_exporter": "python",
   "pygments_lexer": "ipython3",
   "version": "3.9.13"
  },
  "vscode": {
   "interpreter": {
    "hash": "22e93f1d8be2154c5a04e6b058ce42b63f28e5f9eb04901314d0231bac8a129e"
   }
  }
 },
 "nbformat": 4,
 "nbformat_minor": 5
}
