{
 "cells": [
  {
   "cell_type": "markdown",
   "id": "096ec476",
   "metadata": {},
   "source": [
    "# Image Colorization Final Project\n",
    "Authors: Aret Tinoco, Keshav Gupta, Hal Halberstadt\n",
    "\n",
    "Dataset: https://www.kaggle.com/datasets/darthgera/colorization\n",
    "\n",
    "---\n",
    "\n",
    "## Imports\n",
    "\n",
    "We have to import some unsual libraries in order to get the RGB values of our target images into HSL format, and a few more for ease of viewing and on the same note ease displaying data."
   ]
  },
  {
   "cell_type": "code",
   "execution_count": 1,
   "id": "bd605224",
   "metadata": {},
   "outputs": [],
   "source": [
    "import numpy as np\n",
    "import pandas as pd\n",
    "import matplotlib.pyplot as plt\n",
    "import seaborn as sns\n",
    "import colorsys\n",
    "from pathlib import Path\n",
    "from PIL import Image # for resizing images\n",
    "\n",
    "import tensorflow as tf\n",
    "from tensorflow.keras import models, layers, Input, Model, callbacks, utils, callbacks\n",
    "import tensorflow.keras.backend as K\n",
    "from tensorflow.keras.preprocessing.image import ImageDataGenerator, load_img\n",
    "\n",
    "from IPython.display import display, HTML"
   ]
  },
  {
   "cell_type": "markdown",
   "id": "d770db43",
   "metadata": {},
   "source": [
    "Ease of reading"
   ]
  },
  {
   "cell_type": "code",
   "execution_count": 2,
   "id": "09fb6d98",
   "metadata": {},
   "outputs": [
    {
     "data": {
      "text/html": [
       "<style>.container { width:100% !important; }</style>"
      ],
      "text/plain": [
       "<IPython.core.display.HTML object>"
      ]
     },
     "metadata": {},
     "output_type": "display_data"
    }
   ],
   "source": [
    "pd.set_option('display.max_columns', 200)\n",
    "pd.options.display.width = 120\n",
    "pd.options.display.max_colwidth = 50\n",
    "display(HTML(\"<style>.container { width:100% !important; }</style>\"))"
   ]
  },
  {
   "cell_type": "markdown",
   "id": "8f979beb",
   "metadata": {},
   "source": [
    "Now to state the directory of the data to retrieve from."
   ]
  },
  {
   "cell_type": "code",
   "execution_count": 3,
   "id": "b09c590a",
   "metadata": {},
   "outputs": [],
   "source": [
    "data_dir = Path(\"C:/Users/smhal/Desktop/archive\") \n",
    "img_shape = (512, 512, 3)\n",
    "# shrink_shape = img_shape\n",
    "shrink_shape = (256, 256, 3)\n",
    "\n",
    "folder_paths = ['color', 'bw', 'color_val', 'bw_val']"
   ]
  },
  {
   "cell_type": "markdown",
   "id": "d5642bf1",
   "metadata": {},
   "source": [
    "---\n",
    "\n",
    "## Useful Functions\n",
    "\n",
    "We need a function to make conversion of each image easier"
   ]
  },
  {
   "cell_type": "code",
   "execution_count": 4,
   "id": "6f01b9ef",
   "metadata": {},
   "outputs": [],
   "source": [
    "# def hls_conv(image, width=shrink_shape[0], height=shrink_shape[0]):\n",
    "#     image = np.array(image, dtype=np.float32)\n",
    "#     for x in range(width):\n",
    "#         for y in range(height):\n",
    "#             image[x][y] = colorsys.rgb_to_hls(image[x][y][0], image[x][y][1], image[x][y][2])\n",
    "#     return image"
   ]
  },
  {
   "cell_type": "code",
   "execution_count": 5,
   "id": "aa87c760",
   "metadata": {},
   "outputs": [],
   "source": [
    "# def rbg_conv(image, width=shrink_shape[0], height=shrink_shape[0]):\n",
    "#     image = np.array(image, dtype=np.float32)\n",
    "#     for x in range(width):\n",
    "#         for y in range(height):  \n",
    "#             image[x][y] = colorsys.hls_to_rgb(image[x][y][0], image[x][y][1], image[x][y][2])\n",
    "#     return image"
   ]
  },
  {
   "cell_type": "markdown",
   "id": "ad5abfea",
   "metadata": {},
   "source": [
    "---\n",
    "\n",
    "## Data Generator\n",
    "\n",
    "Since we cannot hope to hold onto 18000 images in our kernel, we have to use a generator in order to be able to get data from the file and then train on that data."
   ]
  },
  {
   "cell_type": "code",
   "execution_count": 6,
   "id": "56b1475c",
   "metadata": {},
   "outputs": [],
   "source": [
    "class DataGenerator(utils.Sequence): \n",
    "    '''\n",
    "    adapted from https://stanford.edu/~shervine/blog/keras-how-to-generate-data-on-the-fly\n",
    "    \n",
    "    Generates a color (rbg/hls) and black & white image for training data\n",
    "    '''\n",
    "    def __init__(self, ids, batch_size=1, \n",
    "                 dim=shrink_shape, n_channels=3, shuffle=True, mode=0):\n",
    "        self.dim = dim\n",
    "        self.batch_size = batch_size\n",
    "        self.list_IDs = ids\n",
    "        self.n_channels = n_channels\n",
    "        self.shuffle = shuffle\n",
    "        self.on_epoch_end()\n",
    "\n",
    "    def __len__(self):\n",
    "        return int(np.floor(len(self.list_IDs) / self.batch_size))\n",
    "\n",
    "    def __getitem__(self, index):\n",
    "        # Generate indexes of the batch\n",
    "        indexes = self.indexes[index*self.batch_size:(index+1)*self.batch_size]\n",
    "\n",
    "        # Find list of IDs\n",
    "        list_IDs_temp = [self.list_IDs[k] for k in indexes]\n",
    "\n",
    "        # Generate data\n",
    "        X, y = self.__data_generation(list_IDs_temp)\n",
    "        \n",
    "        return X, y\n",
    "\n",
    "    def on_epoch_end(self):\n",
    "        self.indexes = np.arange(len(self.list_IDs))\n",
    "        if self.shuffle == True:\n",
    "            np.random.shuffle(self.indexes)\n",
    "\n",
    "    def __data_generation(self, list_IDs_temp):\n",
    "        # Initialization\n",
    "        X = np.empty((self.batch_size, *self.dim))\n",
    "        y = np.empty((self.batch_size, *self.dim))\n",
    "\n",
    "        # Generate data\n",
    "        for i, ID in enumerate(list_IDs_temp):\n",
    "            # B/W image\n",
    "#             img = np.zeros((1, shrink_shape[0], shrink_shape[1], shrink_shape[2]), dtype='float32')\n",
    "            img = load_img(ID)\n",
    "            img = img.resize(shrink_shape[:2])\n",
    "            img = np.array(img, dtype=np.float32)\n",
    "            X[i] = img\n",
    "            \n",
    "            # get location of color image\n",
    "            color_ID = str(ID)\n",
    "            color_ID = color_ID.replace(\"bw\", \"color\")\n",
    "            \n",
    "            # target image\n",
    "#             img_y = np.zeros((1, shrink_shape[0], shrink_shape[1], shrink_shape[2]), dtype='float32')\n",
    "            img_y = load_img(color_ID)\n",
    "            img_y = img_y.resize(shrink_shape[:2])\n",
    "            img_y = np.array(img_y, dtype=np.float32)\n",
    "            y[i] = img_y\n",
    "#             y[i] = hls_conv(img_y)\n",
    "\n",
    "        return X, y"
   ]
  },
  {
   "cell_type": "code",
   "execution_count": 7,
   "id": "09af90c0",
   "metadata": {},
   "outputs": [],
   "source": [
    "# Dataset locations\n",
    "bw_dir_train = data_dir / folder_paths[1]\n",
    "# color_dir_train = data_dir / folder_paths[0]\n",
    "\n",
    "partition_bw = list(bw_dir_train.glob('*.jpg'))\n",
    "# partition_color = list(color_dir_train.glob('*.jpg'))\n",
    "\n",
    "# Generators\n",
    "training_generator = DataGenerator(partition_bw)"
   ]
  },
  {
   "cell_type": "code",
   "execution_count": 8,
   "id": "c6198fc7",
   "metadata": {},
   "outputs": [],
   "source": [
    "# Dataset locations\n",
    "bw_dir_val = data_dir / folder_paths[3]\n",
    "color_dir_val = data_dir / folder_paths[2]\n",
    "\n",
    "partition_bw = list(bw_dir_val.glob('*.jpg'))\n",
    "partition_color = list(color_dir_val.glob('*.jpg'))\n",
    "\n",
    "# Generators\n",
    "validation_generator = DataGenerator(partition_bw)"
   ]
  },
  {
   "cell_type": "markdown",
   "id": "7a17dfe5",
   "metadata": {},
   "source": [
    "---\n",
    "\n",
    "## Model(s)\n",
    "\n",
    "Next I want to read the data from the files and then just to make sure I am getting the right data from the right files"
   ]
  },
  {
   "cell_type": "code",
   "execution_count": 9,
   "id": "8cd7cb42",
   "metadata": {},
   "outputs": [],
   "source": [
    "K.clear_session()  # Just for sanity\n",
    "\n",
    "act_fun='relu'\n",
    "head_filters = 1\n",
    "filters = 32\n",
    "filter_size = 2\n",
    "pool_size = 2\n",
    "\n",
    "layer_input_shape = shrink_shape\n",
    "\n",
    "_input = Input(layer_input_shape, name=\"img_input\")\n",
    "\n",
    "'''head model'''\n",
    "x = layers.SeparableConv2D(head_filters, filter_size, padding='same', activation=act_fun, name=\"head_conv_1\")(_input) # hue\n",
    "residual = x\n",
    "# x = layers.AveragePooling2D(pool_size=pool_size, padding=\"same\", name=\"head_pooling_1\")(x)\n",
    "\n",
    "x = layers.SeparableConv2D(filters+2, filter_size, padding='same', activation=act_fun, name=\"head_conv_2\")(x)\n",
    "x = layers.SeparableConv2D(filters+2, filter_size, padding='same', activation=act_fun, name=\"head_conv_3\")(x)\n",
    "x = layers.Add()([x, residual])\n",
    "x = layers.SeparableConv2D(filters+2, filter_size, padding='same', activation=act_fun, name=\"head_conv_4\")(x)\n",
    "\n",
    "x = layers.SeparableConv2D(1, filter_size, padding='same', activation=act_fun, name=\"head_conv_5\")(x)\n",
    "\n",
    "pred = x\n",
    "head_model = Model(_input, pred)"
   ]
  },
  {
   "cell_type": "code",
   "execution_count": 10,
   "id": "b5fa66b3",
   "metadata": {},
   "outputs": [],
   "source": [
    "K.clear_session()  # Just for sanity\n",
    "\n",
    "act_fun='relu'\n",
    "head_filters = 1\n",
    "filters = 16\n",
    "filter_size = 2\n",
    "pool_size = 2\n",
    "\n",
    "layer_input_shape = shrink_shape\n",
    "\n",
    "_input = Input(layer_input_shape, name=\"img_input\")\n",
    "h1 = head_model(_input)\n",
    "h2 = head_model(_input)\n",
    "h3 = head_model(_input)\n",
    "\n",
    "'''full image'''\n",
    "full_input = layers.Concatenate(axis=3)([h1, h2, h3])\n",
    "x = layers.SeparableConv2D(filters, filter_size, padding='same', activation=act_fun, name=\"conv_1\")(full_input)\n",
    "residual = x\n",
    "x = layers.SeparableConv2D(filters, filter_size, padding='same', activation=act_fun, name=\"conv_2\")(x)\n",
    "# x = layers.AveragePooling2D(pool_size=pool_size, padding=\"valid\", name=\"full_pooling_1\")(x)\n",
    "x = layers.SeparableConv2D(filters, filter_size, padding='same', activation=act_fun, name=\"conv_3\")(x)\n",
    "x = layers.SeparableConv2D(filters, filter_size, padding='same', activation=act_fun, name=\"conv_4\")(x)\n",
    "x = layers.Add()([x, residual])\n",
    "x = layers.SeparableConv2D(filters, filter_size, padding='same', activation=act_fun, name=\"conv_5\")(x)\n",
    "x = layers.SeparableConv2D(3, filter_size, padding='same', activation=act_fun)(x)\n",
    "\n",
    "pred = x\n",
    "model = Model(_input, pred)\n"
   ]
  },
  {
   "cell_type": "code",
   "execution_count": 11,
   "id": "e9cc95ef",
   "metadata": {
    "scrolled": false
   },
   "outputs": [
    {
     "name": "stdout",
     "output_type": "stream",
     "text": [
      "Model: \"model\"\n",
      "__________________________________________________________________________________________________\n",
      "Layer (type)                    Output Shape         Param #     Connected to                     \n",
      "==================================================================================================\n",
      "img_input (InputLayer)          [(None, 256, 256, 3) 0                                            \n",
      "__________________________________________________________________________________________________\n",
      "model (Functional)              (None, 256, 256, 1)  2911        img_input[0][0]                  \n",
      "                                                                 img_input[0][0]                  \n",
      "                                                                 img_input[0][0]                  \n",
      "__________________________________________________________________________________________________\n",
      "concatenate (Concatenate)       (None, 256, 256, 3)  0           model[0][0]                      \n",
      "                                                                 model[1][0]                      \n",
      "                                                                 model[2][0]                      \n",
      "__________________________________________________________________________________________________\n",
      "conv_1 (SeparableConv2D)        (None, 256, 256, 16) 76          concatenate[0][0]                \n",
      "__________________________________________________________________________________________________\n",
      "conv_2 (SeparableConv2D)        (None, 256, 256, 16) 336         conv_1[0][0]                     \n",
      "__________________________________________________________________________________________________\n",
      "conv_3 (SeparableConv2D)        (None, 256, 256, 16) 336         conv_2[0][0]                     \n",
      "__________________________________________________________________________________________________\n",
      "conv_4 (SeparableConv2D)        (None, 256, 256, 16) 336         conv_3[0][0]                     \n",
      "__________________________________________________________________________________________________\n",
      "add (Add)                       (None, 256, 256, 16) 0           conv_4[0][0]                     \n",
      "                                                                 conv_1[0][0]                     \n",
      "__________________________________________________________________________________________________\n",
      "conv_5 (SeparableConv2D)        (None, 256, 256, 16) 336         add[0][0]                        \n",
      "__________________________________________________________________________________________________\n",
      "separable_conv2d (SeparableConv (None, 256, 256, 3)  115         conv_5[0][0]                     \n",
      "==================================================================================================\n",
      "Total params: 4,446\n",
      "Trainable params: 4,446\n",
      "Non-trainable params: 0\n",
      "__________________________________________________________________________________________________\n"
     ]
    }
   ],
   "source": [
    "model.summary()"
   ]
  },
  {
   "cell_type": "markdown",
   "id": "74d0f2c2",
   "metadata": {},
   "source": [
    "---\n",
    "\n",
    "## Training"
   ]
  },
  {
   "cell_type": "markdown",
   "id": "7423f8d9",
   "metadata": {},
   "source": [
    "Creating a loss function"
   ]
  },
  {
   "cell_type": "code",
   "execution_count": 12,
   "id": "0ebd7252",
   "metadata": {},
   "outputs": [],
   "source": [
    "my_callbacks = [\n",
    "    callbacks.EarlyStopping(monitor=\"val_loss\", restore_best_weights=True),\n",
    "    callbacks.ReduceLROnPlateau(monitor=\"val_loss\", factor=0.1, patience=4, min_delta=0.0001)\n",
    "]"
   ]
  },
  {
   "cell_type": "code",
   "execution_count": 13,
   "id": "aea32ab2",
   "metadata": {
    "scrolled": false
   },
   "outputs": [
    {
     "name": "stdout",
     "output_type": "stream",
     "text": [
      "Epoch 1/10\n",
      "18000/18000 [==============================] - 1741s 96ms/step - loss: 1656.8253 - accuracy: 0.5573 - val_loss: 566.0462 - val_accuracy: 0.5719\n",
      "Epoch 2/10\n",
      " 9736/18000 [===============>..............] - ETA: 12:25 - loss: 612.3073 - accuracy: 0.5500"
     ]
    },
    {
     "ename": "KeyboardInterrupt",
     "evalue": "",
     "output_type": "error",
     "traceback": [
      "\u001b[1;31m---------------------------------------------------------------------------\u001b[0m",
      "\u001b[1;31mKeyboardInterrupt\u001b[0m                         Traceback (most recent call last)",
      "\u001b[1;32m~\\AppData\\Local\\Temp\\ipykernel_17372\\603788417.py\u001b[0m in \u001b[0;36m<module>\u001b[1;34m\u001b[0m\n\u001b[0;32m      1\u001b[0m \u001b[0mmodel\u001b[0m\u001b[1;33m.\u001b[0m\u001b[0mcompile\u001b[0m\u001b[1;33m(\u001b[0m\u001b[0moptimizer\u001b[0m\u001b[1;33m=\u001b[0m\u001b[1;34m'rmsprop'\u001b[0m\u001b[1;33m,\u001b[0m \u001b[0mloss\u001b[0m\u001b[1;33m=\u001b[0m\u001b[1;34m'mse'\u001b[0m\u001b[1;33m,\u001b[0m  \u001b[0mmetrics\u001b[0m\u001b[1;33m=\u001b[0m\u001b[1;33m[\u001b[0m\u001b[1;34m'accuracy'\u001b[0m\u001b[1;33m]\u001b[0m\u001b[1;33m)\u001b[0m\u001b[1;33m\u001b[0m\u001b[1;33m\u001b[0m\u001b[0m\n\u001b[0;32m      2\u001b[0m \u001b[1;33m\u001b[0m\u001b[0m\n\u001b[1;32m----> 3\u001b[1;33m \u001b[0mhistory\u001b[0m \u001b[1;33m=\u001b[0m \u001b[0mmodel\u001b[0m\u001b[1;33m.\u001b[0m\u001b[0mfit\u001b[0m\u001b[1;33m(\u001b[0m\u001b[0mtraining_generator\u001b[0m\u001b[1;33m,\u001b[0m \u001b[0mvalidation_data\u001b[0m\u001b[1;33m=\u001b[0m\u001b[0mvalidation_generator\u001b[0m\u001b[1;33m,\u001b[0m \u001b[0mepochs\u001b[0m\u001b[1;33m=\u001b[0m\u001b[1;36m10\u001b[0m\u001b[1;33m)\u001b[0m\u001b[1;33m\u001b[0m\u001b[1;33m\u001b[0m\u001b[0m\n\u001b[0m\u001b[0;32m      4\u001b[0m \u001b[1;31m# history = model.fit(training_generator, epochs=5)\u001b[0m\u001b[1;33m\u001b[0m\u001b[1;33m\u001b[0m\u001b[0m\n",
      "\u001b[1;32m~\\anaconda3\\envs\\tf-gpu\\lib\\site-packages\\keras\\engine\\training.py\u001b[0m in \u001b[0;36mfit\u001b[1;34m(self, x, y, batch_size, epochs, verbose, callbacks, validation_split, validation_data, shuffle, class_weight, sample_weight, initial_epoch, steps_per_epoch, validation_steps, validation_batch_size, validation_freq, max_queue_size, workers, use_multiprocessing)\u001b[0m\n\u001b[0;32m   1182\u001b[0m                 _r=1):\n\u001b[0;32m   1183\u001b[0m               \u001b[0mcallbacks\u001b[0m\u001b[1;33m.\u001b[0m\u001b[0mon_train_batch_begin\u001b[0m\u001b[1;33m(\u001b[0m\u001b[0mstep\u001b[0m\u001b[1;33m)\u001b[0m\u001b[1;33m\u001b[0m\u001b[1;33m\u001b[0m\u001b[0m\n\u001b[1;32m-> 1184\u001b[1;33m               \u001b[0mtmp_logs\u001b[0m \u001b[1;33m=\u001b[0m \u001b[0mself\u001b[0m\u001b[1;33m.\u001b[0m\u001b[0mtrain_function\u001b[0m\u001b[1;33m(\u001b[0m\u001b[0miterator\u001b[0m\u001b[1;33m)\u001b[0m\u001b[1;33m\u001b[0m\u001b[1;33m\u001b[0m\u001b[0m\n\u001b[0m\u001b[0;32m   1185\u001b[0m               \u001b[1;32mif\u001b[0m \u001b[0mdata_handler\u001b[0m\u001b[1;33m.\u001b[0m\u001b[0mshould_sync\u001b[0m\u001b[1;33m:\u001b[0m\u001b[1;33m\u001b[0m\u001b[1;33m\u001b[0m\u001b[0m\n\u001b[0;32m   1186\u001b[0m                 \u001b[0mcontext\u001b[0m\u001b[1;33m.\u001b[0m\u001b[0masync_wait\u001b[0m\u001b[1;33m(\u001b[0m\u001b[1;33m)\u001b[0m\u001b[1;33m\u001b[0m\u001b[1;33m\u001b[0m\u001b[0m\n",
      "\u001b[1;32m~\\anaconda3\\envs\\tf-gpu\\lib\\site-packages\\tensorflow\\python\\eager\\def_function.py\u001b[0m in \u001b[0;36m__call__\u001b[1;34m(self, *args, **kwds)\u001b[0m\n\u001b[0;32m    883\u001b[0m \u001b[1;33m\u001b[0m\u001b[0m\n\u001b[0;32m    884\u001b[0m       \u001b[1;32mwith\u001b[0m \u001b[0mOptionalXlaContext\u001b[0m\u001b[1;33m(\u001b[0m\u001b[0mself\u001b[0m\u001b[1;33m.\u001b[0m\u001b[0m_jit_compile\u001b[0m\u001b[1;33m)\u001b[0m\u001b[1;33m:\u001b[0m\u001b[1;33m\u001b[0m\u001b[1;33m\u001b[0m\u001b[0m\n\u001b[1;32m--> 885\u001b[1;33m         \u001b[0mresult\u001b[0m \u001b[1;33m=\u001b[0m \u001b[0mself\u001b[0m\u001b[1;33m.\u001b[0m\u001b[0m_call\u001b[0m\u001b[1;33m(\u001b[0m\u001b[1;33m*\u001b[0m\u001b[0margs\u001b[0m\u001b[1;33m,\u001b[0m \u001b[1;33m**\u001b[0m\u001b[0mkwds\u001b[0m\u001b[1;33m)\u001b[0m\u001b[1;33m\u001b[0m\u001b[1;33m\u001b[0m\u001b[0m\n\u001b[0m\u001b[0;32m    886\u001b[0m \u001b[1;33m\u001b[0m\u001b[0m\n\u001b[0;32m    887\u001b[0m       \u001b[0mnew_tracing_count\u001b[0m \u001b[1;33m=\u001b[0m \u001b[0mself\u001b[0m\u001b[1;33m.\u001b[0m\u001b[0mexperimental_get_tracing_count\u001b[0m\u001b[1;33m(\u001b[0m\u001b[1;33m)\u001b[0m\u001b[1;33m\u001b[0m\u001b[1;33m\u001b[0m\u001b[0m\n",
      "\u001b[1;32m~\\anaconda3\\envs\\tf-gpu\\lib\\site-packages\\tensorflow\\python\\eager\\def_function.py\u001b[0m in \u001b[0;36m_call\u001b[1;34m(self, *args, **kwds)\u001b[0m\n\u001b[0;32m    915\u001b[0m       \u001b[1;31m# In this case we have created variables on the first call, so we run the\u001b[0m\u001b[1;33m\u001b[0m\u001b[1;33m\u001b[0m\u001b[0m\n\u001b[0;32m    916\u001b[0m       \u001b[1;31m# defunned version which is guaranteed to never create variables.\u001b[0m\u001b[1;33m\u001b[0m\u001b[1;33m\u001b[0m\u001b[0m\n\u001b[1;32m--> 917\u001b[1;33m       \u001b[1;32mreturn\u001b[0m \u001b[0mself\u001b[0m\u001b[1;33m.\u001b[0m\u001b[0m_stateless_fn\u001b[0m\u001b[1;33m(\u001b[0m\u001b[1;33m*\u001b[0m\u001b[0margs\u001b[0m\u001b[1;33m,\u001b[0m \u001b[1;33m**\u001b[0m\u001b[0mkwds\u001b[0m\u001b[1;33m)\u001b[0m  \u001b[1;31m# pylint: disable=not-callable\u001b[0m\u001b[1;33m\u001b[0m\u001b[1;33m\u001b[0m\u001b[0m\n\u001b[0m\u001b[0;32m    918\u001b[0m     \u001b[1;32melif\u001b[0m \u001b[0mself\u001b[0m\u001b[1;33m.\u001b[0m\u001b[0m_stateful_fn\u001b[0m \u001b[1;32mis\u001b[0m \u001b[1;32mnot\u001b[0m \u001b[1;32mNone\u001b[0m\u001b[1;33m:\u001b[0m\u001b[1;33m\u001b[0m\u001b[1;33m\u001b[0m\u001b[0m\n\u001b[0;32m    919\u001b[0m       \u001b[1;31m# Release the lock early so that multiple threads can perform the call\u001b[0m\u001b[1;33m\u001b[0m\u001b[1;33m\u001b[0m\u001b[0m\n",
      "\u001b[1;32m~\\anaconda3\\envs\\tf-gpu\\lib\\site-packages\\tensorflow\\python\\eager\\function.py\u001b[0m in \u001b[0;36m__call__\u001b[1;34m(self, *args, **kwargs)\u001b[0m\n\u001b[0;32m   3037\u001b[0m       (graph_function,\n\u001b[0;32m   3038\u001b[0m        filtered_flat_args) = self._maybe_define_function(args, kwargs)\n\u001b[1;32m-> 3039\u001b[1;33m     return graph_function._call_flat(\n\u001b[0m\u001b[0;32m   3040\u001b[0m         filtered_flat_args, captured_inputs=graph_function.captured_inputs)  # pylint: disable=protected-access\n\u001b[0;32m   3041\u001b[0m \u001b[1;33m\u001b[0m\u001b[0m\n",
      "\u001b[1;32m~\\anaconda3\\envs\\tf-gpu\\lib\\site-packages\\tensorflow\\python\\eager\\function.py\u001b[0m in \u001b[0;36m_call_flat\u001b[1;34m(self, args, captured_inputs, cancellation_manager)\u001b[0m\n\u001b[0;32m   1961\u001b[0m         and executing_eagerly):\n\u001b[0;32m   1962\u001b[0m       \u001b[1;31m# No tape is watching; skip to running the function.\u001b[0m\u001b[1;33m\u001b[0m\u001b[1;33m\u001b[0m\u001b[0m\n\u001b[1;32m-> 1963\u001b[1;33m       return self._build_call_outputs(self._inference_function.call(\n\u001b[0m\u001b[0;32m   1964\u001b[0m           ctx, args, cancellation_manager=cancellation_manager))\n\u001b[0;32m   1965\u001b[0m     forward_backward = self._select_forward_and_backward_functions(\n",
      "\u001b[1;32m~\\anaconda3\\envs\\tf-gpu\\lib\\site-packages\\tensorflow\\python\\eager\\function.py\u001b[0m in \u001b[0;36mcall\u001b[1;34m(self, ctx, args, cancellation_manager)\u001b[0m\n\u001b[0;32m    589\u001b[0m       \u001b[1;32mwith\u001b[0m \u001b[0m_InterpolateFunctionError\u001b[0m\u001b[1;33m(\u001b[0m\u001b[0mself\u001b[0m\u001b[1;33m)\u001b[0m\u001b[1;33m:\u001b[0m\u001b[1;33m\u001b[0m\u001b[1;33m\u001b[0m\u001b[0m\n\u001b[0;32m    590\u001b[0m         \u001b[1;32mif\u001b[0m \u001b[0mcancellation_manager\u001b[0m \u001b[1;32mis\u001b[0m \u001b[1;32mNone\u001b[0m\u001b[1;33m:\u001b[0m\u001b[1;33m\u001b[0m\u001b[1;33m\u001b[0m\u001b[0m\n\u001b[1;32m--> 591\u001b[1;33m           outputs = execute.execute(\n\u001b[0m\u001b[0;32m    592\u001b[0m               \u001b[0mstr\u001b[0m\u001b[1;33m(\u001b[0m\u001b[0mself\u001b[0m\u001b[1;33m.\u001b[0m\u001b[0msignature\u001b[0m\u001b[1;33m.\u001b[0m\u001b[0mname\u001b[0m\u001b[1;33m)\u001b[0m\u001b[1;33m,\u001b[0m\u001b[1;33m\u001b[0m\u001b[1;33m\u001b[0m\u001b[0m\n\u001b[0;32m    593\u001b[0m               \u001b[0mnum_outputs\u001b[0m\u001b[1;33m=\u001b[0m\u001b[0mself\u001b[0m\u001b[1;33m.\u001b[0m\u001b[0m_num_outputs\u001b[0m\u001b[1;33m,\u001b[0m\u001b[1;33m\u001b[0m\u001b[1;33m\u001b[0m\u001b[0m\n",
      "\u001b[1;32m~\\anaconda3\\envs\\tf-gpu\\lib\\site-packages\\tensorflow\\python\\eager\\execute.py\u001b[0m in \u001b[0;36mquick_execute\u001b[1;34m(op_name, num_outputs, inputs, attrs, ctx, name)\u001b[0m\n\u001b[0;32m     57\u001b[0m   \u001b[1;32mtry\u001b[0m\u001b[1;33m:\u001b[0m\u001b[1;33m\u001b[0m\u001b[1;33m\u001b[0m\u001b[0m\n\u001b[0;32m     58\u001b[0m     \u001b[0mctx\u001b[0m\u001b[1;33m.\u001b[0m\u001b[0mensure_initialized\u001b[0m\u001b[1;33m(\u001b[0m\u001b[1;33m)\u001b[0m\u001b[1;33m\u001b[0m\u001b[1;33m\u001b[0m\u001b[0m\n\u001b[1;32m---> 59\u001b[1;33m     tensors = pywrap_tfe.TFE_Py_Execute(ctx._handle, device_name, op_name,\n\u001b[0m\u001b[0;32m     60\u001b[0m                                         inputs, attrs, num_outputs)\n\u001b[0;32m     61\u001b[0m   \u001b[1;32mexcept\u001b[0m \u001b[0mcore\u001b[0m\u001b[1;33m.\u001b[0m\u001b[0m_NotOkStatusException\u001b[0m \u001b[1;32mas\u001b[0m \u001b[0me\u001b[0m\u001b[1;33m:\u001b[0m\u001b[1;33m\u001b[0m\u001b[1;33m\u001b[0m\u001b[0m\n",
      "\u001b[1;31mKeyboardInterrupt\u001b[0m: "
     ]
    }
   ],
   "source": [
    "model.compile(optimizer='rmsprop', loss='mse',  metrics=['accuracy'])\n",
    "\n",
    "history = model.fit(training_generator, callbacks=my_callbacks, validation_data=validation_generator, epochs=10)\n",
    "# history = model.fit(training_generator, epochs=5)"
   ]
  },
  {
   "cell_type": "markdown",
   "id": "a7d504b7",
   "metadata": {},
   "source": [
    "---\n",
    "\n",
    "## Example Results\n",
    "\n",
    "Here is a few images that were colorized with this model"
   ]
  },
  {
   "cell_type": "code",
   "execution_count": null,
   "id": "7f65957f",
   "metadata": {},
   "outputs": [],
   "source": [
    "image_number = 1"
   ]
  },
  {
   "cell_type": "code",
   "execution_count": null,
   "id": "eac7b6f1",
   "metadata": {
    "scrolled": true
   },
   "outputs": [],
   "source": [
    "imgs = np.zeros((10, shrink_shape[0], shrink_shape[1], shrink_shape[2]), dtype='float32')\n",
    "i = 0\n",
    "for location in partition_bw[:10]:\n",
    "    img = load_img(location)\n",
    "    img = img.resize(shrink_shape[:2])\n",
    "    _img = np.array(img, dtype=np.float32)\n",
    "    imgs[i] = _img/255\n",
    "    i += 1\n",
    "    \n",
    "plt.imshow(imgs[image_number]);"
   ]
  },
  {
   "cell_type": "code",
   "execution_count": null,
   "id": "23648b81",
   "metadata": {
    "scrolled": false
   },
   "outputs": [],
   "source": [
    "output = model.predict(imgs)\n",
    "# for hls_img in output:\n",
    "#     hls_img = rbg_conv(hls_img)\n",
    "\n",
    "plt.imshow(output[image_number]);"
   ]
  },
  {
   "cell_type": "code",
   "execution_count": null,
   "id": "510d20df",
   "metadata": {
    "scrolled": false
   },
   "outputs": [],
   "source": [
    "imgs_c = np.zeros((10, shrink_shape[0], shrink_shape[1], shrink_shape[2]), dtype='float32')\n",
    "i = 0\n",
    "for location in partition_color[:10]:\n",
    "    img_c = load_img(location)\n",
    "    img_c = img_c.resize(shrink_shape[:2])\n",
    "    _img_c = np.array(img_c, dtype=np.float32)\n",
    "    imgs_c[i] = _img_c/255\n",
    "    i += 1\n",
    "    \n",
    "plt.imshow(imgs_c[image_number]);"
   ]
  },
  {
   "cell_type": "markdown",
   "id": "75476bbd",
   "metadata": {},
   "source": [
    "---\n",
    "\n",
    "## Conclusions\n",
    "\n",
    "Para1..."
   ]
  }
 ],
 "metadata": {
  "kernelspec": {
   "display_name": "Python 3 (ipykernel)",
   "language": "python",
   "name": "python3"
  },
  "language_info": {
   "codemirror_mode": {
    "name": "ipython",
    "version": 3
   },
   "file_extension": ".py",
   "mimetype": "text/x-python",
   "name": "python",
   "nbconvert_exporter": "python",
   "pygments_lexer": "ipython3",
   "version": "3.9.13"
  },
  "vscode": {
   "interpreter": {
    "hash": "22e93f1d8be2154c5a04e6b058ce42b63f28e5f9eb04901314d0231bac8a129e"
   }
  }
 },
 "nbformat": 4,
 "nbformat_minor": 5
}
